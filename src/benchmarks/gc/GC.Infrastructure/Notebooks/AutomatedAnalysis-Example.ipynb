{
 "cells": [
  {
   "cell_type": "code",
   "execution_count": null,
   "metadata": {
    "dotnet_interactive": {
     "language": "csharp"
    },
    "polyglot_notebook": {
     "kernelName": "csharp"
    },
    "vscode": {
     "languageId": "polyglot-notebook"
    }
   },
   "outputs": [],
   "source": [
    "#!import AutomatedAnalysis.dib"
   ]
  },
  {
   "cell_type": "code",
   "execution_count": 2,
   "metadata": {
    "dotnet_interactive": {
     "language": "csharp"
    },
    "polyglot_notebook": {
     "kernelName": "csharp"
    },
    "vscode": {
     "languageId": "polyglot-notebook"
    }
   },
   "outputs": [],
   "source": [
    "string path = @\".\\Examples\\Traces\\All_Conserve\";\n",
    "DataManager dm = DataManager.CreateAspNetData(path);\n",
    "string baselineConfigName = \"28c\";\n",
    "string comparandConfigName = \"28c_con1\";"
   ]
  },
  {
   "cell_type": "markdown",
   "metadata": {},
   "source": [
    "## Display Benchmark Regressions"
   ]
  },
  {
   "cell_type": "code",
   "execution_count": null,
   "metadata": {
    "dotnet_interactive": {
     "language": "csharp"
    },
    "polyglot_notebook": {
     "kernelName": "csharp"
    },
    "vscode": {
     "languageId": "polyglot-notebook"
    }
   },
   "outputs": [],
   "source": [
    "Metric<BenchmarkData> avgHeapCountChanges = Metrics.Promote(Metrics.I.NumberOfHeapCountSwitches, Aggregation.Average);\n",
    "Metric<BenchmarkData> avgGCCount = Metrics.Promote(Metrics.I.TotalGCCount, Aggregation.Average);\n",
    "public static Dictionary<Metric<BenchmarkData>, ExpectationDirection> HigherMemoryLowerThroughput = new()\n",
    "{\n",
    "    { Metrics.B.AverageMaxHeapSize, ExpectationDirection.Increase },\n",
    "    { Metrics.B.AverageP50Latency, ExpectationDirection.Decrease },\n",
    "    /*\n",
    "    Additionally, a metric with no change is also available. The entire enum is:\n",
    "    public enum ExpectationDirection\n",
    "    {\n",
    "        Unknown,\n",
    "        Increase,\n",
    "        Decrease,\n",
    "        NoChange,\n",
    "    }\n",
    "    */\n",
    "};\n",
    "\n",
    "Dictionary< Metric<BenchmarkData>, double> thresholds = new()\n",
    "{\n",
    "    { Metrics.B.AverageMaxHeapSize, 5 },\n",
    "    { Metrics.B.AverageP50Latency, 5 },\n",
    "};\n",
    "\n",
    "DisplayBenchmarkSummaryWithRegressions(dm, baselineConfigName, comparandConfigName, metrics: ML( Metrics.B.AverageMaxHeapSize, Metrics.B.AverageP50Latency ), benchmarkRegressionThreshold: 5, benchmarksToDisplay: 5, \n",
    "metricToleranceOverridePercentage: thresholds,\n",
    "expectationDirections: HigherMemoryLowerThroughput);"
   ]
  },
  {
   "cell_type": "markdown",
   "metadata": {},
   "source": [
    "## Display Iteration Anomalies"
   ]
  },
  {
   "cell_type": "code",
   "execution_count": null,
   "metadata": {
    "dotnet_interactive": {
     "language": "csharp"
    },
    "polyglot_notebook": {
     "kernelName": "csharp"
    },
    "vscode": {
     "languageId": "polyglot-notebook"
    }
   },
   "outputs": [],
   "source": [
    "// Update Average -> Safe Average.\n",
    "Aggregation SafeAverage = new Aggregation((gc => {\n",
    "    double safeAverage;\n",
    "    \n",
    "    long count = 0;\n",
    "    double sum = 0;\n",
    "\n",
    "    foreach (var item in gc)\n",
    "    {\n",
    "        if (item != 0 && !double.IsNaN(item))\n",
    "        {\n",
    "            sum += item;\n",
    "            count++;\n",
    "        }\n",
    "    }\n",
    "\n",
    "    safeAverage = count == 0 ? double.NaN : sum / count;\n",
    "    return safeAverage;\n",
    "\n",
    "}), \"SafeAverage\", \"\");\n",
    "\n",
    "Metric<IterationData> avgTCPToConsider = Metrics.Promote(Metrics.G.MedianThroughputCostPercent, SafeAverage);\n",
    "\n",
    "Dictionary<Metric<IterationData>, double> volatilityOverrides = new()\n",
    "{\n",
    "    { Metrics.I.Gen0MeanPauseMSec, 0.5 },\n",
    "    { Metrics.I.Latency50thMS, 3 },\n",
    "};\n",
    "\n",
    "// todo: override the volatility threshold\n",
    "DisplayIterationData(dm, baselineConfigName, comparandConfigName, metrics: ML( avgTCPToConsider, Metrics.I.Gen0MeanPauseMSec, Metrics.I.Latency50thMS ), benchmarkFilter: new Filter(\"Stage1Pgo\"),\n",
    "volatilityThreshold: 2, metricVolOverridePercentage: volatilityOverrides); "
   ]
  },
  {
   "cell_type": "markdown",
   "metadata": {},
   "source": [
    "## Display GC Charts"
   ]
  },
  {
   "cell_type": "code",
   "execution_count": null,
   "metadata": {
    "dotnet_interactive": {
     "language": "csharp"
    },
    "polyglot_notebook": {
     "kernelName": "csharp"
    },
    "vscode": {
     "languageId": "polyglot-notebook"
    }
   },
   "outputs": [],
   "source": [
    "ChartGCData(dm, metrics: ML( Metrics.G.MedianThroughputCostPercent, Metrics.G.NumHeaps, Metrics.G.TotalSOHStableSize ), \n",
    " //iterationFilter: new IntFilter(1), \n",
    " benchmarkFilter: new Filter(\"PlaintextMvc\", \"Stage1Pgo\"),\n",
    " xMetric: Metrics.X.StartRelativeMSec)"
   ]
  }
 ],
 "metadata": {
  "kernelspec": {
   "display_name": ".NET (C#)",
   "language": "C#",
   "name": ".net-csharp"
  },
  "language_info": {
   "name": "python"
  },
  "polyglot_notebook": {
   "kernelInfo": {
    "defaultKernelName": "csharp",
    "items": [
     {
      "aliases": [],
      "name": "csharp"
     }
    ]
   }
  }
 },
 "nbformat": 4,
 "nbformat_minor": 2
}
