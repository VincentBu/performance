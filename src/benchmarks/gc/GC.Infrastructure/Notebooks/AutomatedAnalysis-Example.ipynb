{
 "cells": [
  {
   "cell_type": "code",
   "execution_count": null,
   "metadata": {
    "dotnet_interactive": {
     "language": "csharp"
    },
    "polyglot_notebook": {
     "kernelName": "csharp"
    },
    "vscode": {
     "languageId": "polyglot-notebook"
    }
   },
   "outputs": [],
   "source": [
    "#!import AutomatedAnalysis.dib"
   ]
  },
  {
   "cell_type": "code",
   "execution_count": null,
   "metadata": {
    "dotnet_interactive": {
     "language": "csharp"
    },
    "polyglot_notebook": {
     "kernelName": "csharp"
    },
    "vscode": {
     "languageId": "polyglot-notebook"
    }
   },
   "outputs": [],
   "source": [
    "string path = @\".\\Examples\\Traces\\All_Conserve\";\n",
    "DataManager dm = DataManager.CreateAspNetData(path);\n",
    "string baselineConfigName = \"28c\";\n",
    "string comparandConfigName = \"28c_con1\";\n",
    "// Set to null if plot and summary all benchmarks\n",
    "string[] benchmarkToSummary = [\"ConnectionClose\", \"Stage2Pgo\"]; \n",
    "// Set to null if plot and summary all iteration\n",
    "int[] iterationToSummary = null;\n",
    "\n",
    "List<Metric<TraceGC>> metricFilterList = ML(Metrics.G.GCPauseTime, Metrics.G.HeapSizeBefore, Metrics.G.HeapSizeAfter, Metrics.G.HeapSizePeak);\n",
    "\n",
    "Filter runFilter = null;\n",
    "Filter configFilter = null;\n"
   ]
  },
  {
   "cell_type": "markdown",
   "metadata": {},
   "source": [
    "## Display Benchmark Regressions"
   ]
  },
  {
   "cell_type": "code",
   "execution_count": null,
   "metadata": {
    "dotnet_interactive": {
     "language": "csharp"
    },
    "polyglot_notebook": {
     "kernelName": "csharp"
    },
    "vscode": {
     "languageId": "polyglot-notebook"
    }
   },
   "outputs": [],
   "source": [
    "Metric<BenchmarkData> avgHeapCountChanges = Metrics.Promote(Metrics.I.NumberOfHeapCountSwitches, Aggregation.Average);\n",
    "Metric<BenchmarkData> avgGCCount = Metrics.Promote(Metrics.I.TotalGCCount, Aggregation.Average);\n",
    "public static Dictionary<Metric<BenchmarkData>, ExpectationDirection> HigherMemoryLowerThroughput = new()\n",
    "{\n",
    "    { Metrics.B.AverageMaxHeapSize, ExpectationDirection.Increase },\n",
    "    { Metrics.B.AverageP50Latency, ExpectationDirection.Decrease },\n",
    "    /*\n",
    "    Additionally, a metric with no change is also available. The entire enum is:\n",
    "    public enum ExpectationDirection\n",
    "    {\n",
    "        Unknown,\n",
    "        Increase,\n",
    "        Decrease,\n",
    "        NoChange,\n",
    "    }\n",
    "    */\n",
    "};\n",
    "\n",
    "Dictionary< Metric<BenchmarkData>, double> thresholds = new()\n",
    "{\n",
    "    { Metrics.B.AverageMaxHeapSize, 5 },\n",
    "    { Metrics.B.AverageP50Latency, 5 },\n",
    "};\n",
    "\n",
    "DisplayBenchmarkSummaryWithRegressions(dm, baselineConfigName, comparandConfigName, metrics: ML( Metrics.B.AverageMaxHeapSize, Metrics.B.AverageP50Latency ), benchmarkRegressionThreshold: 5, benchmarksToDisplay: 5, \n",
    "metricToleranceOverridePercentage: thresholds,\n",
    "expectationDirections: HigherMemoryLowerThroughput);"
   ]
  },
  {
   "cell_type": "markdown",
   "metadata": {},
   "source": [
    "## Display Iteration Anomalies"
   ]
  },
  {
   "cell_type": "code",
   "execution_count": null,
   "metadata": {
    "dotnet_interactive": {
     "language": "csharp"
    },
    "polyglot_notebook": {
     "kernelName": "csharp"
    },
    "vscode": {
     "languageId": "polyglot-notebook"
    }
   },
   "outputs": [],
   "source": [
    "// Update Average -> Safe Average.\n",
    "Aggregation SafeAverage = new Aggregation((gc => {\n",
    "    double safeAverage;\n",
    "    \n",
    "    long count = 0;\n",
    "    double sum = 0;\n",
    "\n",
    "    foreach (var item in gc)\n",
    "    {\n",
    "        if (item != 0 && !double.IsNaN(item))\n",
    "        {\n",
    "            sum += item;\n",
    "            count++;\n",
    "        }\n",
    "    }\n",
    "\n",
    "    safeAverage = count == 0 ? double.NaN : sum / count;\n",
    "    return safeAverage;\n",
    "\n",
    "}), \"SafeAverage\", \"\");\n",
    "\n",
    "Metric<IterationData> avgTCPToConsider = Metrics.Promote(Metrics.G.MedianThroughputCostPercent, SafeAverage);\n",
    "\n",
    "Dictionary<Metric<IterationData>, double> volatilityOverrides = new()\n",
    "{\n",
    "    { Metrics.I.Gen0MeanPauseMSec, 10 },\n",
    "    { Metrics.I.Latency50thMS, 20 },\n",
    "};\n",
    "\n",
    "// todo: override the volatility threshold\n",
    "DisplayIterationData(dm, baselineConfigName, comparandConfigName, metrics: ML( avgTCPToConsider, Metrics.I.Gen0MeanPauseMSec, Metrics.I.Latency50thMS ) //, benchmarkFilter: new Filter(\"Stage1Pgo\"),\n",
    ",volatilityThreshold: 2, metricVolOverridePercentage: volatilityOverrides, iterationsToDisplay: 5) "
   ]
  },
  {
   "cell_type": "markdown",
   "metadata": {},
   "source": [
    "## Display GC data"
   ]
  },
  {
   "cell_type": "code",
   "execution_count": null,
   "metadata": {
    "dotnet_interactive": {
     "language": "csharp"
    },
    "polyglot_notebook": {
     "kernelName": "csharp"
    },
    "vscode": {
     "languageId": "polyglot-notebook"
    }
   },
   "outputs": [],
   "source": [
    "public class AveragedMetricData\n",
    "{\n",
    "    public Metric<TraceGC> Metric;\n",
    "    public string RunName;\n",
    "    public string ConfigName;\n",
    "    public string BenchmarkName;\n",
    "    public int IterationIndex;\n",
    "    public double AveragedMetric;\n",
    "}\n",
    "\n",
    "List<AveragedMetricData> FlattenAndAverageTopLevelData(TopLevelData topLevelData)\n",
    "{\n",
    "    List<AveragedMetricData> flattenedAndAveragedTopLevelData = new();\n",
    "\n",
    "    Dictionary<string, RunData> rdDict = runFilter == null ?\n",
    "        topLevelData.Runs : topLevelData.Runs.Where(run => runFilter.Include(run.Key)).ToDictionary();\n",
    "\n",
    "    foreach (var runName in rdDict.Keys)\n",
    "    {\n",
    "        RunData rd = rdDict[runName];\n",
    "        Dictionary<string, ConfigData> cdDict = configFilter == null ?\n",
    "            rd.Configs : rd.Configs.Where(config => configFilter.Include(config.Key)).ToDictionary();\n",
    "\n",
    "        foreach (var configName in cdDict.Keys)\n",
    "        {\n",
    "            ConfigData cd = rd.Configs[configName];\n",
    "            Dictionary<string, BenchmarkData> bdDict = benchmarkToSummary == null ?\n",
    "                cd.Benchmarks : cd.Benchmarks.Where(benchmark => benchmarkToSummary.Contains(benchmark.Key)).ToDictionary();\n",
    "\n",
    "            foreach (var benchmarkName in bdDict.Keys)\n",
    "            {\n",
    "                BenchmarkData bd = cd.Benchmarks[benchmarkName];\n",
    "\n",
    "                List<(IterationData, int)> iterationWithIndexList = iterationToSummary == null ?\n",
    "                    bd.Iterations.WithIndex().ToList() : \n",
    "                    bd.Iterations.WithIndex().Where((_, idx) => iterationToSummary.Contains(idx)).ToList();\n",
    "                foreach (var (iterationData, iterationIdx) in iterationWithIndexList)    \n",
    "                {\n",
    "                    foreach (var metric in metricFilterList)\n",
    "                    {\n",
    "                        AveragedMetricData data = new()\n",
    "                        {\n",
    "                            Metric = metric,\n",
    "                            RunName = runName,\n",
    "                            ConfigName = configName,\n",
    "                            BenchmarkName = benchmarkName,\n",
    "                            IterationIndex = iterationIdx,\n",
    "                            AveragedMetric = iterationData.GCProcessData.GCs\n",
    "                                .Select(gc => metric.DoExtract(gc, 0))\n",
    "                                .Average().Value\n",
    "                        };\n",
    "                        flattenedAndAveragedTopLevelData.Add(data);\n",
    "                    }\n",
    "                }\n",
    "            }\n",
    "        }\n",
    "    }\n",
    "    return flattenedAndAveragedTopLevelData;\n",
    "}\n",
    "\n",
    "List<AveragedMetricData> flattenedAndAveragedTopLevelData = FlattenAndAverageTopLevelData(dm.Data);\n",
    "\n",
    "foreach (var metricDataGroup in flattenedAndAveragedTopLevelData.GroupBy(d => d.Metric))\n",
    "{\n",
    "    Metric<TraceGC> metric = metricDataGroup.Key;\n",
    "    foreach (var benchmarkDataGroup in metricDataGroup.GroupBy(d => d.BenchmarkName))\n",
    "    {\n",
    "        string benchmarkName = benchmarkDataGroup.Key;\n",
    "        Filter benchmarkFilter = new(benchmarkName);\n",
    "        IntFilter iterationFilter = new(iterationToSummary);\n",
    "        $\"## Details for {metric.Title} of {benchmarkName}\".DisplayAs(\"text/markdown\");\n",
    "        ChartGCData(dm, metric, \n",
    "                    runFilter: runFilter,\n",
    "                    configFilter: configFilter,\n",
    "                    benchmarkFilter: benchmarkFilter,\n",
    "                    iterationFilter: iterationFilter)\n",
    "            .ForEach(ch => ch.Display());\n",
    "\n",
    "        $\"## Summary for {metric.Title} of {benchmarkName}\".DisplayAs(\"text/markdown\");\n",
    "        StringBuilder SummaryTableBuilder = new();\n",
    "        SummaryTableBuilder.AppendLine($\"| Run | Avg. {metric.Title}({metric.Unit}) |\");\n",
    "        SummaryTableBuilder.AppendLine(\"| -------- | --------: |\");\n",
    "\n",
    "        foreach (var configDataGroup in benchmarkDataGroup.GroupBy(d => d.ConfigName))\n",
    "        {\n",
    "            string configName = configDataGroup.Key;\n",
    "            foreach (var iterationData in configDataGroup.OrderBy(d => d.IterationIndex))\n",
    "            {\n",
    "                SummaryTableBuilder.AppendLine(\n",
    "                    $\"| {iterationData.ConfigName}_{iterationData.IterationIndex} | {iterationData.AveragedMetric.ToString(\"f2\")} |\");\n",
    "            }\n",
    "        }\n",
    "        SummaryTableBuilder.ToString().DisplayAs(\"text/markdown\");\n",
    "    }\n",
    "}\n"
   ]
  }
 ],
 "metadata": {
  "kernelspec": {
   "display_name": ".NET (C#)",
   "language": "C#",
   "name": ".net-csharp"
  },
  "language_info": {
   "name": "python"
  },
  "polyglot_notebook": {
   "kernelInfo": {
    "defaultKernelName": "csharp",
    "items": [
     {
      "aliases": [],
      "name": "csharp"
     }
    ]
   }
  }
 },
 "nbformat": 4,
 "nbformat_minor": 2
}
